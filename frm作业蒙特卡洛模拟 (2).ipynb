{
 "cells": [
  {
   "cell_type": "code",
   "execution_count": 1,
   "id": "6ac7e970-1f24-4391-81a5-fc9debe38e76",
   "metadata": {},
   "outputs": [],
   "source": [
    "import sxsc_tushare as sx\n",
    "import pandas as pd\n",
    "import numpy as np\n",
    "import matplotlib.pyplot as plt\n",
    "import seaborn as sns\n",
    "from tqdm import *\n",
    "from numpy.linalg import multi_dot\n",
    "sx.set_token(\"0a3191104cd108eccc6d1d4ce8a431f8d99fb786926e5d788f3b55c5\")#因为这个账号是私有的 所以老师我无法把真实通行token给到你\n",
    "pro = sx.get_api(env=\"prd\")"
   ]
  },
  {
   "cell_type": "code",
   "execution_count": 2,
   "id": "009ecca5-f6dc-4c84-9ecd-c58d7a5a837e",
   "metadata": {},
   "outputs": [
    {
     "data": {
      "text/html": [
       "<div>\n",
       "<style scoped>\n",
       "    .dataframe tbody tr th:only-of-type {\n",
       "        vertical-align: middle;\n",
       "    }\n",
       "\n",
       "    .dataframe tbody tr th {\n",
       "        vertical-align: top;\n",
       "    }\n",
       "\n",
       "    .dataframe thead th {\n",
       "        text-align: right;\n",
       "    }\n",
       "</style>\n",
       "<table border=\"1\" class=\"dataframe\">\n",
       "  <thead>\n",
       "    <tr style=\"text-align: right;\">\n",
       "      <th></th>\n",
       "      <th>ts_code</th>\n",
       "      <th>trade_date</th>\n",
       "      <th>open</th>\n",
       "      <th>high</th>\n",
       "      <th>low</th>\n",
       "      <th>close</th>\n",
       "      <th>pre_close</th>\n",
       "      <th>change</th>\n",
       "      <th>pct_chg</th>\n",
       "      <th>vol</th>\n",
       "      <th>amount</th>\n",
       "    </tr>\n",
       "  </thead>\n",
       "  <tbody>\n",
       "    <tr>\n",
       "      <th>0</th>\n",
       "      <td>600872.SH</td>\n",
       "      <td>20241231</td>\n",
       "      <td>22.90</td>\n",
       "      <td>22.95</td>\n",
       "      <td>21.97</td>\n",
       "      <td>22.02</td>\n",
       "      <td>22.88</td>\n",
       "      <td>-0.86</td>\n",
       "      <td>-3.7587</td>\n",
       "      <td>128218.61</td>\n",
       "      <td>286369.862</td>\n",
       "    </tr>\n",
       "    <tr>\n",
       "      <th>1</th>\n",
       "      <td>600298.SH</td>\n",
       "      <td>20241231</td>\n",
       "      <td>36.26</td>\n",
       "      <td>36.57</td>\n",
       "      <td>36.05</td>\n",
       "      <td>36.05</td>\n",
       "      <td>36.26</td>\n",
       "      <td>-0.21</td>\n",
       "      <td>-0.5792</td>\n",
       "      <td>46909.80</td>\n",
       "      <td>170140.988</td>\n",
       "    </tr>\n",
       "    <tr>\n",
       "      <th>2</th>\n",
       "      <td>600186.SH</td>\n",
       "      <td>20241231</td>\n",
       "      <td>5.02</td>\n",
       "      <td>5.70</td>\n",
       "      <td>4.92</td>\n",
       "      <td>5.70</td>\n",
       "      <td>5.18</td>\n",
       "      <td>0.52</td>\n",
       "      <td>10.0386</td>\n",
       "      <td>2546273.82</td>\n",
       "      <td>1386903.837</td>\n",
       "    </tr>\n",
       "    <tr>\n",
       "      <th>3</th>\n",
       "      <td>600186.SH</td>\n",
       "      <td>20241230</td>\n",
       "      <td>5.39</td>\n",
       "      <td>5.39</td>\n",
       "      <td>5.11</td>\n",
       "      <td>5.18</td>\n",
       "      <td>4.90</td>\n",
       "      <td>0.28</td>\n",
       "      <td>5.7143</td>\n",
       "      <td>1863664.92</td>\n",
       "      <td>980407.231</td>\n",
       "    </tr>\n",
       "    <tr>\n",
       "      <th>4</th>\n",
       "      <td>600298.SH</td>\n",
       "      <td>20241230</td>\n",
       "      <td>36.32</td>\n",
       "      <td>36.71</td>\n",
       "      <td>36.10</td>\n",
       "      <td>36.26</td>\n",
       "      <td>36.37</td>\n",
       "      <td>-0.11</td>\n",
       "      <td>-0.3024</td>\n",
       "      <td>41062.20</td>\n",
       "      <td>149470.040</td>\n",
       "    </tr>\n",
       "    <tr>\n",
       "      <th>5</th>\n",
       "      <td>600872.SH</td>\n",
       "      <td>20241230</td>\n",
       "      <td>23.27</td>\n",
       "      <td>23.36</td>\n",
       "      <td>22.75</td>\n",
       "      <td>22.88</td>\n",
       "      <td>23.26</td>\n",
       "      <td>-0.38</td>\n",
       "      <td>-1.6337</td>\n",
       "      <td>113979.32</td>\n",
       "      <td>261826.508</td>\n",
       "    </tr>\n",
       "    <tr>\n",
       "      <th>6</th>\n",
       "      <td>600872.SH</td>\n",
       "      <td>20241227</td>\n",
       "      <td>23.31</td>\n",
       "      <td>23.43</td>\n",
       "      <td>22.98</td>\n",
       "      <td>23.26</td>\n",
       "      <td>23.27</td>\n",
       "      <td>-0.01</td>\n",
       "      <td>-0.0430</td>\n",
       "      <td>87356.00</td>\n",
       "      <td>202761.922</td>\n",
       "    </tr>\n",
       "    <tr>\n",
       "      <th>7</th>\n",
       "      <td>600298.SH</td>\n",
       "      <td>20241227</td>\n",
       "      <td>35.90</td>\n",
       "      <td>36.55</td>\n",
       "      <td>35.83</td>\n",
       "      <td>36.37</td>\n",
       "      <td>35.97</td>\n",
       "      <td>0.40</td>\n",
       "      <td>1.1120</td>\n",
       "      <td>43404.66</td>\n",
       "      <td>157068.130</td>\n",
       "    </tr>\n",
       "    <tr>\n",
       "      <th>8</th>\n",
       "      <td>600186.SH</td>\n",
       "      <td>20241227</td>\n",
       "      <td>4.83</td>\n",
       "      <td>5.01</td>\n",
       "      <td>4.75</td>\n",
       "      <td>4.90</td>\n",
       "      <td>4.78</td>\n",
       "      <td>0.12</td>\n",
       "      <td>2.5105</td>\n",
       "      <td>529206.00</td>\n",
       "      <td>259854.243</td>\n",
       "    </tr>\n",
       "    <tr>\n",
       "      <th>9</th>\n",
       "      <td>600186.SH</td>\n",
       "      <td>20241226</td>\n",
       "      <td>4.70</td>\n",
       "      <td>4.84</td>\n",
       "      <td>4.67</td>\n",
       "      <td>4.78</td>\n",
       "      <td>4.74</td>\n",
       "      <td>0.04</td>\n",
       "      <td>0.8439</td>\n",
       "      <td>366488.89</td>\n",
       "      <td>175079.632</td>\n",
       "    </tr>\n",
       "  </tbody>\n",
       "</table>\n",
       "</div>"
      ],
      "text/plain": [
       "     ts_code trade_date   open   high    low  close  pre_close  change  \\\n",
       "0  600872.SH   20241231  22.90  22.95  21.97  22.02      22.88   -0.86   \n",
       "1  600298.SH   20241231  36.26  36.57  36.05  36.05      36.26   -0.21   \n",
       "2  600186.SH   20241231   5.02   5.70   4.92   5.70       5.18    0.52   \n",
       "3  600186.SH   20241230   5.39   5.39   5.11   5.18       4.90    0.28   \n",
       "4  600298.SH   20241230  36.32  36.71  36.10  36.26      36.37   -0.11   \n",
       "5  600872.SH   20241230  23.27  23.36  22.75  22.88      23.26   -0.38   \n",
       "6  600872.SH   20241227  23.31  23.43  22.98  23.26      23.27   -0.01   \n",
       "7  600298.SH   20241227  35.90  36.55  35.83  36.37      35.97    0.40   \n",
       "8  600186.SH   20241227   4.83   5.01   4.75   4.90       4.78    0.12   \n",
       "9  600186.SH   20241226   4.70   4.84   4.67   4.78       4.74    0.04   \n",
       "\n",
       "   pct_chg         vol       amount  \n",
       "0  -3.7587   128218.61   286369.862  \n",
       "1  -0.5792    46909.80   170140.988  \n",
       "2  10.0386  2546273.82  1386903.837  \n",
       "3   5.7143  1863664.92   980407.231  \n",
       "4  -0.3024    41062.20   149470.040  \n",
       "5  -1.6337   113979.32   261826.508  \n",
       "6  -0.0430    87356.00   202761.922  \n",
       "7   1.1120    43404.66   157068.130  \n",
       "8   2.5105   529206.00   259854.243  \n",
       "9   0.8439   366488.89   175079.632  "
      ]
     },
     "execution_count": 2,
     "metadata": {},
     "output_type": "execute_result"
    }
   ],
   "source": [
    "df = pro.daily( ts_code = ' 600298.SH, 600872.SH, 600186.SH', start_date='20041231', end_date='20241231', )\n",
    "df.head(10)"
   ]
  },
  {
   "cell_type": "code",
   "execution_count": 3,
   "id": "beb1f0dd-9fa1-4004-b36b-db34b86cac21",
   "metadata": {},
   "outputs": [],
   "source": [
    "df['trade_date'] = pd.to_datetime(df['trade_date'], format='%Y%m%d')\n",
    "# df = df.sort_values('trade_date' )ascending = True\n",
    "df = df.sort_values('trade_date', ascending=True)"
   ]
  },
  {
   "cell_type": "code",
   "execution_count": 4,
   "id": "27fe02a2-1008-487c-bf5f-a8a5b4a45917",
   "metadata": {},
   "outputs": [],
   "source": [
    "df_filtered = df[['ts_code', 'trade_date', 'close']]"
   ]
  },
  {
   "cell_type": "code",
   "execution_count": 5,
   "id": "93548027-a8a2-4940-ae47-1fb64943ceca",
   "metadata": {},
   "outputs": [
    {
     "data": {
      "text/html": [
       "<div>\n",
       "<style scoped>\n",
       "    .dataframe tbody tr th:only-of-type {\n",
       "        vertical-align: middle;\n",
       "    }\n",
       "\n",
       "    .dataframe tbody tr th {\n",
       "        vertical-align: top;\n",
       "    }\n",
       "\n",
       "    .dataframe thead th {\n",
       "        text-align: right;\n",
       "    }\n",
       "</style>\n",
       "<table border=\"1\" class=\"dataframe\">\n",
       "  <thead>\n",
       "    <tr style=\"text-align: right;\">\n",
       "      <th></th>\n",
       "      <th>ts_code</th>\n",
       "      <th>trade_date</th>\n",
       "      <th>close</th>\n",
       "    </tr>\n",
       "  </thead>\n",
       "  <tbody>\n",
       "    <tr>\n",
       "      <th>5999</th>\n",
       "      <td>600186.SH</td>\n",
       "      <td>2016-10-11</td>\n",
       "      <td>5.50</td>\n",
       "    </tr>\n",
       "    <tr>\n",
       "      <th>5996</th>\n",
       "      <td>600298.SH</td>\n",
       "      <td>2016-10-12</td>\n",
       "      <td>16.92</td>\n",
       "    </tr>\n",
       "    <tr>\n",
       "      <th>5998</th>\n",
       "      <td>600186.SH</td>\n",
       "      <td>2016-10-12</td>\n",
       "      <td>5.46</td>\n",
       "    </tr>\n",
       "    <tr>\n",
       "      <th>5997</th>\n",
       "      <td>600872.SH</td>\n",
       "      <td>2016-10-12</td>\n",
       "      <td>14.99</td>\n",
       "    </tr>\n",
       "    <tr>\n",
       "      <th>5993</th>\n",
       "      <td>600186.SH</td>\n",
       "      <td>2016-10-13</td>\n",
       "      <td>5.53</td>\n",
       "    </tr>\n",
       "    <tr>\n",
       "      <th>...</th>\n",
       "      <td>...</td>\n",
       "      <td>...</td>\n",
       "      <td>...</td>\n",
       "    </tr>\n",
       "    <tr>\n",
       "      <th>4</th>\n",
       "      <td>600298.SH</td>\n",
       "      <td>2024-12-30</td>\n",
       "      <td>36.26</td>\n",
       "    </tr>\n",
       "    <tr>\n",
       "      <th>3</th>\n",
       "      <td>600186.SH</td>\n",
       "      <td>2024-12-30</td>\n",
       "      <td>5.18</td>\n",
       "    </tr>\n",
       "    <tr>\n",
       "      <th>2</th>\n",
       "      <td>600186.SH</td>\n",
       "      <td>2024-12-31</td>\n",
       "      <td>5.70</td>\n",
       "    </tr>\n",
       "    <tr>\n",
       "      <th>1</th>\n",
       "      <td>600298.SH</td>\n",
       "      <td>2024-12-31</td>\n",
       "      <td>36.05</td>\n",
       "    </tr>\n",
       "    <tr>\n",
       "      <th>0</th>\n",
       "      <td>600872.SH</td>\n",
       "      <td>2024-12-31</td>\n",
       "      <td>22.02</td>\n",
       "    </tr>\n",
       "  </tbody>\n",
       "</table>\n",
       "<p>6000 rows × 3 columns</p>\n",
       "</div>"
      ],
      "text/plain": [
       "        ts_code trade_date  close\n",
       "5999  600186.SH 2016-10-11   5.50\n",
       "5996  600298.SH 2016-10-12  16.92\n",
       "5998  600186.SH 2016-10-12   5.46\n",
       "5997  600872.SH 2016-10-12  14.99\n",
       "5993  600186.SH 2016-10-13   5.53\n",
       "...         ...        ...    ...\n",
       "4     600298.SH 2024-12-30  36.26\n",
       "3     600186.SH 2024-12-30   5.18\n",
       "2     600186.SH 2024-12-31   5.70\n",
       "1     600298.SH 2024-12-31  36.05\n",
       "0     600872.SH 2024-12-31  22.02\n",
       "\n",
       "[6000 rows x 3 columns]"
      ]
     },
     "execution_count": 5,
     "metadata": {},
     "output_type": "execute_result"
    }
   ],
   "source": [
    "df_filtered"
   ]
  },
  {
   "cell_type": "code",
   "execution_count": 6,
   "id": "606bfc12-a254-4a9c-84d3-848ca4fcf2bb",
   "metadata": {},
   "outputs": [],
   "source": [
    "df_pivot = df_filtered.pivot(\n",
    "    index='trade_date',   # 行索引为日期\n",
    "    columns='ts_code',    # 列索引为股票代码\n",
    "    values='close'        # 填充值为收盘价\n",
    ")\n",
    "\n"
   ]
  },
  {
   "cell_type": "code",
   "execution_count": 7,
   "id": "899d0bfe-226b-4406-a1ec-37c880be0b52",
   "metadata": {},
   "outputs": [
    {
     "data": {
      "text/html": [
       "<div>\n",
       "<style scoped>\n",
       "    .dataframe tbody tr th:only-of-type {\n",
       "        vertical-align: middle;\n",
       "    }\n",
       "\n",
       "    .dataframe tbody tr th {\n",
       "        vertical-align: top;\n",
       "    }\n",
       "\n",
       "    .dataframe thead th {\n",
       "        text-align: right;\n",
       "    }\n",
       "</style>\n",
       "<table border=\"1\" class=\"dataframe\">\n",
       "  <thead>\n",
       "    <tr style=\"text-align: right;\">\n",
       "      <th>ts_code</th>\n",
       "      <th>600186.SH</th>\n",
       "      <th>600298.SH</th>\n",
       "      <th>600872.SH</th>\n",
       "    </tr>\n",
       "    <tr>\n",
       "      <th>trade_date</th>\n",
       "      <th></th>\n",
       "      <th></th>\n",
       "      <th></th>\n",
       "    </tr>\n",
       "  </thead>\n",
       "  <tbody>\n",
       "    <tr>\n",
       "      <th>2016-10-11</th>\n",
       "      <td>5.50</td>\n",
       "      <td>NaN</td>\n",
       "      <td>NaN</td>\n",
       "    </tr>\n",
       "    <tr>\n",
       "      <th>2016-10-12</th>\n",
       "      <td>5.46</td>\n",
       "      <td>16.92</td>\n",
       "      <td>14.99</td>\n",
       "    </tr>\n",
       "    <tr>\n",
       "      <th>2016-10-13</th>\n",
       "      <td>5.53</td>\n",
       "      <td>17.05</td>\n",
       "      <td>14.98</td>\n",
       "    </tr>\n",
       "    <tr>\n",
       "      <th>2016-10-14</th>\n",
       "      <td>5.52</td>\n",
       "      <td>16.96</td>\n",
       "      <td>15.69</td>\n",
       "    </tr>\n",
       "    <tr>\n",
       "      <th>2016-10-17</th>\n",
       "      <td>5.41</td>\n",
       "      <td>17.30</td>\n",
       "      <td>15.44</td>\n",
       "    </tr>\n",
       "    <tr>\n",
       "      <th>...</th>\n",
       "      <td>...</td>\n",
       "      <td>...</td>\n",
       "      <td>...</td>\n",
       "    </tr>\n",
       "    <tr>\n",
       "      <th>2024-12-25</th>\n",
       "      <td>4.74</td>\n",
       "      <td>35.44</td>\n",
       "      <td>23.12</td>\n",
       "    </tr>\n",
       "    <tr>\n",
       "      <th>2024-12-26</th>\n",
       "      <td>4.78</td>\n",
       "      <td>35.97</td>\n",
       "      <td>23.27</td>\n",
       "    </tr>\n",
       "    <tr>\n",
       "      <th>2024-12-27</th>\n",
       "      <td>4.90</td>\n",
       "      <td>36.37</td>\n",
       "      <td>23.26</td>\n",
       "    </tr>\n",
       "    <tr>\n",
       "      <th>2024-12-30</th>\n",
       "      <td>5.18</td>\n",
       "      <td>36.26</td>\n",
       "      <td>22.88</td>\n",
       "    </tr>\n",
       "    <tr>\n",
       "      <th>2024-12-31</th>\n",
       "      <td>5.70</td>\n",
       "      <td>36.05</td>\n",
       "      <td>22.02</td>\n",
       "    </tr>\n",
       "  </tbody>\n",
       "</table>\n",
       "<p>2002 rows × 3 columns</p>\n",
       "</div>"
      ],
      "text/plain": [
       "ts_code     600186.SH  600298.SH  600872.SH\n",
       "trade_date                                 \n",
       "2016-10-11       5.50        NaN        NaN\n",
       "2016-10-12       5.46      16.92      14.99\n",
       "2016-10-13       5.53      17.05      14.98\n",
       "2016-10-14       5.52      16.96      15.69\n",
       "2016-10-17       5.41      17.30      15.44\n",
       "...               ...        ...        ...\n",
       "2024-12-25       4.74      35.44      23.12\n",
       "2024-12-26       4.78      35.97      23.27\n",
       "2024-12-27       4.90      36.37      23.26\n",
       "2024-12-30       5.18      36.26      22.88\n",
       "2024-12-31       5.70      36.05      22.02\n",
       "\n",
       "[2002 rows x 3 columns]"
      ]
     },
     "execution_count": 7,
     "metadata": {},
     "output_type": "execute_result"
    }
   ],
   "source": [
    "df_pivot "
   ]
  },
  {
   "cell_type": "code",
   "execution_count": 8,
   "id": "e9c34f27-de0d-482a-90a8-00b726131222",
   "metadata": {},
   "outputs": [
    {
     "name": "stderr",
     "output_type": "stream",
     "text": [
      "C:\\Users\\perco\\AppData\\Local\\Temp\\ipykernel_25724\\3706142441.py:1: FutureWarning: DataFrame.fillna with 'method' is deprecated and will raise in a future version. Use obj.ffill() or obj.bfill() instead.\n",
      "  df_filled = df_pivot.fillna(method='bfill', axis=0)\n"
     ]
    },
    {
     "data": {
      "text/html": [
       "<div>\n",
       "<style scoped>\n",
       "    .dataframe tbody tr th:only-of-type {\n",
       "        vertical-align: middle;\n",
       "    }\n",
       "\n",
       "    .dataframe tbody tr th {\n",
       "        vertical-align: top;\n",
       "    }\n",
       "\n",
       "    .dataframe thead th {\n",
       "        text-align: right;\n",
       "    }\n",
       "</style>\n",
       "<table border=\"1\" class=\"dataframe\">\n",
       "  <thead>\n",
       "    <tr style=\"text-align: right;\">\n",
       "      <th>ts_code</th>\n",
       "      <th>600186.SH</th>\n",
       "      <th>600298.SH</th>\n",
       "      <th>600872.SH</th>\n",
       "    </tr>\n",
       "    <tr>\n",
       "      <th>trade_date</th>\n",
       "      <th></th>\n",
       "      <th></th>\n",
       "      <th></th>\n",
       "    </tr>\n",
       "  </thead>\n",
       "  <tbody>\n",
       "    <tr>\n",
       "      <th>2016-10-11</th>\n",
       "      <td>5.50</td>\n",
       "      <td>16.92</td>\n",
       "      <td>14.99</td>\n",
       "    </tr>\n",
       "    <tr>\n",
       "      <th>2016-10-12</th>\n",
       "      <td>5.46</td>\n",
       "      <td>16.92</td>\n",
       "      <td>14.99</td>\n",
       "    </tr>\n",
       "    <tr>\n",
       "      <th>2016-10-13</th>\n",
       "      <td>5.53</td>\n",
       "      <td>17.05</td>\n",
       "      <td>14.98</td>\n",
       "    </tr>\n",
       "    <tr>\n",
       "      <th>2016-10-14</th>\n",
       "      <td>5.52</td>\n",
       "      <td>16.96</td>\n",
       "      <td>15.69</td>\n",
       "    </tr>\n",
       "    <tr>\n",
       "      <th>2016-10-17</th>\n",
       "      <td>5.41</td>\n",
       "      <td>17.30</td>\n",
       "      <td>15.44</td>\n",
       "    </tr>\n",
       "    <tr>\n",
       "      <th>...</th>\n",
       "      <td>...</td>\n",
       "      <td>...</td>\n",
       "      <td>...</td>\n",
       "    </tr>\n",
       "    <tr>\n",
       "      <th>2024-12-25</th>\n",
       "      <td>4.74</td>\n",
       "      <td>35.44</td>\n",
       "      <td>23.12</td>\n",
       "    </tr>\n",
       "    <tr>\n",
       "      <th>2024-12-26</th>\n",
       "      <td>4.78</td>\n",
       "      <td>35.97</td>\n",
       "      <td>23.27</td>\n",
       "    </tr>\n",
       "    <tr>\n",
       "      <th>2024-12-27</th>\n",
       "      <td>4.90</td>\n",
       "      <td>36.37</td>\n",
       "      <td>23.26</td>\n",
       "    </tr>\n",
       "    <tr>\n",
       "      <th>2024-12-30</th>\n",
       "      <td>5.18</td>\n",
       "      <td>36.26</td>\n",
       "      <td>22.88</td>\n",
       "    </tr>\n",
       "    <tr>\n",
       "      <th>2024-12-31</th>\n",
       "      <td>5.70</td>\n",
       "      <td>36.05</td>\n",
       "      <td>22.02</td>\n",
       "    </tr>\n",
       "  </tbody>\n",
       "</table>\n",
       "<p>2002 rows × 3 columns</p>\n",
       "</div>"
      ],
      "text/plain": [
       "ts_code     600186.SH  600298.SH  600872.SH\n",
       "trade_date                                 \n",
       "2016-10-11       5.50      16.92      14.99\n",
       "2016-10-12       5.46      16.92      14.99\n",
       "2016-10-13       5.53      17.05      14.98\n",
       "2016-10-14       5.52      16.96      15.69\n",
       "2016-10-17       5.41      17.30      15.44\n",
       "...               ...        ...        ...\n",
       "2024-12-25       4.74      35.44      23.12\n",
       "2024-12-26       4.78      35.97      23.27\n",
       "2024-12-27       4.90      36.37      23.26\n",
       "2024-12-30       5.18      36.26      22.88\n",
       "2024-12-31       5.70      36.05      22.02\n",
       "\n",
       "[2002 rows x 3 columns]"
      ]
     },
     "execution_count": 8,
     "metadata": {},
     "output_type": "execute_result"
    }
   ],
   "source": [
    "df_filled = df_pivot.fillna(method='bfill', axis=0)\n",
    "df_filled\n"
   ]
  },
  {
   "cell_type": "code",
   "execution_count": 9,
   "id": "023500a0-d2a6-49e5-a3e7-6ad4bed92c03",
   "metadata": {},
   "outputs": [
    {
     "data": {
      "text/plain": [
       "(2001, 3)"
      ]
     },
     "execution_count": 9,
     "metadata": {},
     "output_type": "execute_result"
    }
   ],
   "source": [
    "returns = np.log(df_filled/df_filled.shift(1)).dropna()\n",
    "\n",
    "returns.shape"
   ]
  },
  {
   "cell_type": "code",
   "execution_count": 10,
   "id": "8ed437ae-dbd2-4dbe-ba07-c5eced23f53e",
   "metadata": {},
   "outputs": [
    {
     "name": "stderr",
     "output_type": "stream",
     "text": [
      "100%|██████████| 10000/10000 [00:12<00:00, 777.94it/s]\n"
     ]
    },
    {
     "data": {
      "text/html": [
       "<div>\n",
       "<style scoped>\n",
       "    .dataframe tbody tr th:only-of-type {\n",
       "        vertical-align: middle;\n",
       "    }\n",
       "\n",
       "    .dataframe tbody tr th {\n",
       "        vertical-align: top;\n",
       "    }\n",
       "\n",
       "    .dataframe thead th {\n",
       "        text-align: right;\n",
       "    }\n",
       "</style>\n",
       "<table border=\"1\" class=\"dataframe\">\n",
       "  <thead>\n",
       "    <tr style=\"text-align: right;\">\n",
       "      <th></th>\n",
       "      <th>port_rets</th>\n",
       "      <th>port_vols</th>\n",
       "      <th>weights</th>\n",
       "      <th>Sharp_ratio</th>\n",
       "    </tr>\n",
       "  </thead>\n",
       "  <tbody>\n",
       "    <tr>\n",
       "      <th>0</th>\n",
       "      <td>0.03</td>\n",
       "      <td>0.32</td>\n",
       "      <td>[0.5060476799962363, 0.007156534978816947, 0.4...</td>\n",
       "      <td>0.02</td>\n",
       "    </tr>\n",
       "    <tr>\n",
       "      <th>1</th>\n",
       "      <td>0.04</td>\n",
       "      <td>0.30</td>\n",
       "      <td>[0.4267701253487204, 0.15029003686922374, 0.42...</td>\n",
       "      <td>0.05</td>\n",
       "    </tr>\n",
       "    <tr>\n",
       "      <th>2</th>\n",
       "      <td>0.06</td>\n",
       "      <td>0.29</td>\n",
       "      <td>[0.20162590800600028, 0.4286058477404424, 0.36...</td>\n",
       "      <td>0.14</td>\n",
       "    </tr>\n",
       "    <tr>\n",
       "      <th>3</th>\n",
       "      <td>0.07</td>\n",
       "      <td>0.29</td>\n",
       "      <td>[0.23076051022067112, 0.6595286279686065, 0.10...</td>\n",
       "      <td>0.17</td>\n",
       "    </tr>\n",
       "    <tr>\n",
       "      <th>4</th>\n",
       "      <td>0.05</td>\n",
       "      <td>0.29</td>\n",
       "      <td>[0.29365283681458676, 0.24347681282062036, 0.4...</td>\n",
       "      <td>0.09</td>\n",
       "    </tr>\n",
       "    <tr>\n",
       "      <th>5</th>\n",
       "      <td>0.07</td>\n",
       "      <td>0.31</td>\n",
       "      <td>[0.03297169130537357, 0.5654692762764, 0.40155...</td>\n",
       "      <td>0.17</td>\n",
       "    </tr>\n",
       "    <tr>\n",
       "      <th>6</th>\n",
       "      <td>0.05</td>\n",
       "      <td>0.29</td>\n",
       "      <td>[0.4002471966508565, 0.5021157033464708, 0.097...</td>\n",
       "      <td>0.12</td>\n",
       "    </tr>\n",
       "    <tr>\n",
       "      <th>7</th>\n",
       "      <td>0.03</td>\n",
       "      <td>0.31</td>\n",
       "      <td>[0.39281670666489854, 0.06504001075191339, 0.5...</td>\n",
       "      <td>0.04</td>\n",
       "    </tr>\n",
       "    <tr>\n",
       "      <th>8</th>\n",
       "      <td>0.05</td>\n",
       "      <td>0.29</td>\n",
       "      <td>[0.2889123527476331, 0.3037770301827229, 0.407...</td>\n",
       "      <td>0.10</td>\n",
       "    </tr>\n",
       "    <tr>\n",
       "      <th>9</th>\n",
       "      <td>0.07</td>\n",
       "      <td>0.30</td>\n",
       "      <td>[0.11723173880042441, 0.4954821095711401, 0.38...</td>\n",
       "      <td>0.15</td>\n",
       "    </tr>\n",
       "  </tbody>\n",
       "</table>\n",
       "</div>"
      ],
      "text/plain": [
       "   port_rets  port_vols                                            weights  \\\n",
       "0       0.03       0.32  [0.5060476799962363, 0.007156534978816947, 0.4...   \n",
       "1       0.04       0.30  [0.4267701253487204, 0.15029003686922374, 0.42...   \n",
       "2       0.06       0.29  [0.20162590800600028, 0.4286058477404424, 0.36...   \n",
       "3       0.07       0.29  [0.23076051022067112, 0.6595286279686065, 0.10...   \n",
       "4       0.05       0.29  [0.29365283681458676, 0.24347681282062036, 0.4...   \n",
       "5       0.07       0.31  [0.03297169130537357, 0.5654692762764, 0.40155...   \n",
       "6       0.05       0.29  [0.4002471966508565, 0.5021157033464708, 0.097...   \n",
       "7       0.03       0.31  [0.39281670666489854, 0.06504001075191339, 0.5...   \n",
       "8       0.05       0.29  [0.2889123527476331, 0.3037770301827229, 0.407...   \n",
       "9       0.07       0.30  [0.11723173880042441, 0.4954821095711401, 0.38...   \n",
       "\n",
       "   Sharp_ratio  \n",
       "0         0.02  \n",
       "1         0.05  \n",
       "2         0.14  \n",
       "3         0.17  \n",
       "4         0.09  \n",
       "5         0.17  \n",
       "6         0.12  \n",
       "7         0.04  \n",
       "8         0.10  \n",
       "9         0.15  "
      ]
     },
     "execution_count": 10,
     "metadata": {},
     "output_type": "execute_result"
    }
   ],
   "source": [
    "# 组合的股票构成\n",
    "\n",
    "symbols = ['600186.SH','600298.SH','600872.SH']\n",
    "numofasset = len(symbols)\n",
    " \n",
    "# 定义一个组合的函数\n",
    "def portfolio_simulation(returns):\n",
    "    rets = []; vols=[]; wts=[]\n",
    "    \n",
    "    # 模拟10000次3只股票不同权重的组合\n",
    "    for i in tqdm(range(10000)):\n",
    "        # 产生随机权重\n",
    "        weights = np.random.random(numofasset)[:, np.newaxis]\n",
    "        weights = weights/weights.sum()\n",
    "        \n",
    "        # 记录组合的收益、波动、权重\n",
    "        rets.append(weights.T @ np.array(returns.mean()*250)[:,np.newaxis])\n",
    "        vols.append(np.sqrt(multi_dot([weights.T, returns.cov()*250, weights])))\n",
    "        wts.append(weights.flatten())\n",
    "        \n",
    "    # 记录组合各数据\n",
    "    portdf =  pd.DataFrame({\n",
    "        'port_rets': np.array(rets).flatten(),\n",
    "        'port_vols': np.array(vols).flatten(),\n",
    "        'weights': list(np.array(wts))\n",
    "        })\n",
    "    portdf['Sharp_ratio']=(portdf['port_rets']-0.02)/(portdf['port_vols'])  #假设rf为0\n",
    "    \n",
    "    return round(portdf, 2)\n",
    "\n",
    "temp = portfolio_simulation(returns)\n",
    "temp.head(10)"
   ]
  },
  {
   "cell_type": "code",
   "execution_count": 11,
   "id": "9be88d01-84f5-4f9d-b1af-2811ba801649",
   "metadata": {},
   "outputs": [
    {
     "data": {
      "text/plain": [
       "port_rets                                                   0.09\n",
       "port_vols                                                   0.34\n",
       "weights        [0.01918143444931867, 0.9457217486620781, 0.03...\n",
       "Sharp_ratio                                                 0.21\n",
       "Name: 397, dtype: object"
      ]
     },
     "execution_count": 11,
     "metadata": {},
     "output_type": "execute_result"
    }
   ],
   "source": [
    "temp.iloc[temp.Sharp_ratio.idxmax()]"
   ]
  },
  {
   "cell_type": "code",
   "execution_count": 12,
   "id": "520282f7-b377-4f87-ab61-d60dd498abe0",
   "metadata": {},
   "outputs": [
    {
     "name": "stderr",
     "output_type": "stream",
     "text": [
      "D:\\anaconda\\Lib\\site-packages\\IPython\\core\\pylabtools.py:170: UserWarning: Glyph 25237 (\\N{CJK UNIFIED IDEOGRAPH-6295}) missing from font(s) DejaVu Sans.\n",
      "  fig.canvas.print_figure(bytes_io, **kw)\n",
      "D:\\anaconda\\Lib\\site-packages\\IPython\\core\\pylabtools.py:170: UserWarning: Glyph 36164 (\\N{CJK UNIFIED IDEOGRAPH-8D44}) missing from font(s) DejaVu Sans.\n",
      "  fig.canvas.print_figure(bytes_io, **kw)\n",
      "D:\\anaconda\\Lib\\site-packages\\IPython\\core\\pylabtools.py:170: UserWarning: Glyph 32452 (\\N{CJK UNIFIED IDEOGRAPH-7EC4}) missing from font(s) DejaVu Sans.\n",
      "  fig.canvas.print_figure(bytes_io, **kw)\n",
      "D:\\anaconda\\Lib\\site-packages\\IPython\\core\\pylabtools.py:170: UserWarning: Glyph 21512 (\\N{CJK UNIFIED IDEOGRAPH-5408}) missing from font(s) DejaVu Sans.\n",
      "  fig.canvas.print_figure(bytes_io, **kw)\n",
      "D:\\anaconda\\Lib\\site-packages\\IPython\\core\\pylabtools.py:170: UserWarning: Glyph 33945 (\\N{CJK UNIFIED IDEOGRAPH-8499}) missing from font(s) DejaVu Sans.\n",
      "  fig.canvas.print_figure(bytes_io, **kw)\n",
      "D:\\anaconda\\Lib\\site-packages\\IPython\\core\\pylabtools.py:170: UserWarning: Glyph 29305 (\\N{CJK UNIFIED IDEOGRAPH-7279}) missing from font(s) DejaVu Sans.\n",
      "  fig.canvas.print_figure(bytes_io, **kw)\n",
      "D:\\anaconda\\Lib\\site-packages\\IPython\\core\\pylabtools.py:170: UserWarning: Glyph 21345 (\\N{CJK UNIFIED IDEOGRAPH-5361}) missing from font(s) DejaVu Sans.\n",
      "  fig.canvas.print_figure(bytes_io, **kw)\n",
      "D:\\anaconda\\Lib\\site-packages\\IPython\\core\\pylabtools.py:170: UserWarning: Glyph 27931 (\\N{CJK UNIFIED IDEOGRAPH-6D1B}) missing from font(s) DejaVu Sans.\n",
      "  fig.canvas.print_figure(bytes_io, **kw)\n",
      "D:\\anaconda\\Lib\\site-packages\\IPython\\core\\pylabtools.py:170: UserWarning: Glyph 27169 (\\N{CJK UNIFIED IDEOGRAPH-6A21}) missing from font(s) DejaVu Sans.\n",
      "  fig.canvas.print_figure(bytes_io, **kw)\n",
      "D:\\anaconda\\Lib\\site-packages\\IPython\\core\\pylabtools.py:170: UserWarning: Glyph 25311 (\\N{CJK UNIFIED IDEOGRAPH-62DF}) missing from font(s) DejaVu Sans.\n",
      "  fig.canvas.print_figure(bytes_io, **kw)\n"
     ]
    },
    {
     "data": {
      "image/png": "[encoded data removed]",
      "text/plain": [
       "<Figure size 640x480 with 1 Axes>"
      ]
     },
     "metadata": {},
     "output_type": "display_data"
    }
   ],
   "source": [
    "import seaborn as sns\n",
    "sns.scatterplot(data=temp, x='port_vols', y='port_rets', hue='Sharp_ratio')\n",
    "plt.title('投资组合蒙特卡洛模拟')\n",
    "plt.show()\n",
    "\n",
    "\n"
   ]
  },
  {
   "cell_type": "code",
   "execution_count": 13,
   "id": "0a72c3ff-7905-4cab-9009-b2a859b693ff",
   "metadata": {},
   "outputs": [
    {
     "data": {
      "text/plain": [
       "trade_date\n",
       "2016-10-11    16.74452\n",
       "2016-10-12    16.74400\n",
       "2016-10-13    16.87126\n",
       "2016-10-14    16.79350\n",
       "2016-10-17    17.11939\n",
       "                ...   \n",
       "2024-12-25    34.86842\n",
       "2024-12-26    35.38673\n",
       "2024-12-27    35.77735\n",
       "2024-12-30    35.66864\n",
       "2024-12-31    35.45903\n",
       "Length: 2002, dtype: float64"
      ]
     },
     "execution_count": 13,
     "metadata": {},
     "output_type": "execute_result"
    }
   ],
   "source": [
    "# weights( 0.013,0.973,0.014) 归一化最优夏普\n",
    "weights_dict = {'600186.SH': 0.013, '600298.SH': 0.973, '600872.SH': 0.014}\n",
    "result = df_filled[weights_dict.keys()].dot(pd.Series(weights_dict))\n",
    "result"
   ]
  },
  {
   "cell_type": "code",
   "execution_count": 14,
   "id": "f2cde297-4d5f-4ff3-a035-e5f501e467fe",
   "metadata": {},
   "outputs": [],
   "source": [
    "# expect shortfall\n",
    "returns = np.log(result/result.shift(1)).dropna()\n",
    "returns = returns.sort_values(ascending = True)"
   ]
  },
  {
   "cell_type": "code",
   "execution_count": 15,
   "id": "2713e2f0-5064-49a0-9645-2ff8c1ce2a3d",
   "metadata": {},
   "outputs": [],
   "source": [
    "VAR10 = returns.head(200).mean()"
   ]
  },
  {
   "cell_type": "code",
   "execution_count": 16,
   "id": "a23196ba-1bc4-40e4-8bb7-3c98134a4c7d",
   "metadata": {},
   "outputs": [
    {
     "data": {
      "text/plain": [
       "-0.03932793864485423"
      ]
     },
     "execution_count": 16,
     "metadata": {},
     "output_type": "execute_result"
    }
   ],
   "source": [
    "VAR10\n",
    "# 90%置信度"
   ]
  },
  {
   "cell_type": "code",
   "execution_count": 17,
   "id": "d7252b74-94e0-43c2-94f5-8f59f02f38f4",
   "metadata": {},
   "outputs": [],
   "source": [
    "VAR5 = returns.head(100).mean()"
   ]
  },
  {
   "cell_type": "code",
   "execution_count": 18,
   "id": "e0523444-394b-4ed5-aa76-6e50084941ae",
   "metadata": {},
   "outputs": [
    {
     "data": {
      "text/plain": [
       "-0.05008475734969926"
      ]
     },
     "execution_count": 18,
     "metadata": {},
     "output_type": "execute_result"
    }
   ],
   "source": [
    "VAR5\n",
    "# 95%置信度"
   ]
  },
  {
   "cell_type": "code",
   "execution_count": 19,
   "id": "ee08a99b-7170-4aad-82a2-56a3bc284bb3",
   "metadata": {},
   "outputs": [
    {
     "data": {
      "text/plain": [
       "0.00037496596948719994"
      ]
     },
     "execution_count": 19,
     "metadata": {},
     "output_type": "execute_result"
    }
   ],
   "source": [
    "returns.mean()"
   ]
  },
  {
   "cell_type": "code",
   "execution_count": 40,
   "id": "c9d5688f-9c24-452b-9341-49421cb67be6",
   "metadata": {},
   "outputs": [
    {
     "data": {
      "text/plain": [
       "0.022320601272101018"
      ]
     },
     "execution_count": 40,
     "metadata": {},
     "output_type": "execute_result"
    }
   ],
   "source": [
    "returns.std()"
   ]
  },
  {
   "cell_type": "code",
   "execution_count": 42,
   "id": "09e4cc73-97d4-448e-9475-c65d1672e489",
   "metadata": {},
   "outputs": [],
   "source": [
    "VAR_by_normaldistribution = returns.mean() - returns.std()"
   ]
  },
  {
   "cell_type": "code",
   "execution_count": 44,
   "id": "d867ffd6-7d88-4b2f-8d67-3a694b608717",
   "metadata": {},
   "outputs": [
    {
     "data": {
      "text/plain": [
       "-0.021945635302613817"
      ]
     },
     "execution_count": 44,
     "metadata": {},
     "output_type": "execute_result"
    }
   ],
   "source": [
    "VAR_by_normaldistribution\n"
   ]
  },
  {
   "cell_type": "code",
   "execution_count": null,
   "id": "724542a4-d1e3-457b-a1b6-b1462de4ac1b",
   "metadata": {},
   "outputs": [],
   "source": []
  }
 ],
 "metadata": {
  "kernelspec": {
   "display_name": "Python [conda env:base] *",
   "language": "python",
   "name": "conda-base-py"
  },
  "language_info": {
   "codemirror_mode": {
    "name": "ipython",
    "version": 3
   },
   "file_extension": ".py",
   "mimetype": "text/x-python",
   "name": "python",
   "nbconvert_exporter": "python",
   "pygments_lexer": "ipython3",
   "version": "3.12.7"
  }
 },
 "nbformat": 4,
 "nbformat_minor": 5
}
